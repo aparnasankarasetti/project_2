{
 "cells": [
  {
   "cell_type": "code",
   "execution_count": 6,
   "metadata": {},
   "outputs": [],
   "source": [
    "import os\n",
    "import tweepy as tw"
   ]
  },
  {
   "cell_type": "code",
   "execution_count": 7,
   "metadata": {},
   "outputs": [],
   "source": [
    "consumer_token=\"8YKiLnjIJgKhFc5IDhcu5nQmQ\"\n",
    "consumer_token_secret=\"sZSpB8nUdgbEL1vAJLXM4P7iZHXsuhJvWZtfH1bxwFcCsGk7a8\"\n",
    "api_key=\"1375686060089339907-MFKmi6MSVZOztbuWTiDLHIe05ySSIb\"\n",
    "api_key_secret=\"Fmn6LPD1W15aIwC0YZKvwvnt0Zr9LMqDqVZ8r7a0Hdzzz\""
   ]
  },
  {
   "cell_type": "code",
   "execution_count": 8,
   "metadata": {},
   "outputs": [],
   "source": [
    "auth = tw.OAuthHandler(consumer_token, consumer_token_secret)\n",
    "auth.set_access_token(api_key, api_key_secret)\n",
    "api = tw.API(auth, wait_on_rate_limit=True)"
   ]
  },
  {
   "cell_type": "code",
   "execution_count": 9,
   "metadata": {},
   "outputs": [],
   "source": [
    "search_words = \"#Robin\"\n",
    "date_since = \"2018-11-16\""
   ]
  },
  {
   "cell_type": "code",
   "execution_count": 10,
   "metadata": {},
   "outputs": [
    {
     "data": {
      "text/plain": [
       "['RT @AnjaBotswana: #Beautiful #Botswana 🇧🇼 #Francistown \\nFinally a half decent picture of a #Kalahari #Robin It is pretty shy and always hid…',\n",
       " 'RT @DemsApples: Your best friend is hot, Tim. And you’re just now seeing it. \\n.\\n.\\n.\\n.\\n.\\n#KonTim #TimDrake #connerkent #robin https://t.co/u…',\n",
       " 'RT @DemsApples: Your best friend is hot, Tim. And you’re just now seeing it. \\n.\\n.\\n.\\n.\\n.\\n#KonTim #TimDrake #connerkent #robin https://t.co/u…',\n",
       " 'RT @DemsApples: Your best friend is hot, Tim. And you’re just now seeing it. \\n.\\n.\\n.\\n.\\n.\\n#KonTim #TimDrake #connerkent #robin https://t.co/u…',\n",
       " 'RT @DemsApples: Your best friend is hot, Tim. And you’re just now seeing it. \\n.\\n.\\n.\\n.\\n.\\n#KonTim #TimDrake #connerkent #robin https://t.co/u…',\n",
       " 'Tim Drake (appreciation layout) \\n\\n#Robin https://t.co/LXJGcONrib',\n",
       " 'RT @DemsApples: Your best friend is hot, Tim. And you’re just now seeing it. \\n.\\n.\\n.\\n.\\n.\\n#KonTim #TimDrake #connerkent #robin https://t.co/u…',\n",
       " 'RT @DemsApples: Your best friend is hot, Tim. And you’re just now seeing it. \\n.\\n.\\n.\\n.\\n.\\n#KonTim #TimDrake #connerkent #robin https://t.co/u…',\n",
       " 'RT @PetitKedi: So hyped for the new comics The Sum of Our Parts (Batman : Urban Legends #4-5-6).\\nI had to doodle a potential next page to t…',\n",
       " \"RT @TheHeroBiz: Guys, it's always been canon #TimDrake #Robin https://t.co/WHR2VmdZzE\",\n",
       " \"RT @WiccanBeyond: In honor of #TimDrake's big date with Bernard Dowd, here's my 2011 commission from @marcusto my favorite #Robin artist.\\nB…\",\n",
       " 'RT @DemsApples: Your best friend is hot, Tim. And you’re just now seeing it. \\n.\\n.\\n.\\n.\\n.\\n#KonTim #TimDrake #connerkent #robin https://t.co/u…',\n",
       " 'RT @DemsApples: Your best friend is hot, Tim. And you’re just now seeing it. \\n.\\n.\\n.\\n.\\n.\\n#KonTim #TimDrake #connerkent #robin https://t.co/u…',\n",
       " 'RT @DemsApples: Your best friend is hot, Tim. And you’re just now seeing it. \\n.\\n.\\n.\\n.\\n.\\n#KonTim #TimDrake #connerkent #robin https://t.co/u…',\n",
       " 'RT @DemsApples: Your best friend is hot, Tim. And you’re just now seeing it. \\n.\\n.\\n.\\n.\\n.\\n#KonTim #TimDrake #connerkent #robin https://t.co/u…']"
      ]
     },
     "execution_count": 10,
     "metadata": {},
     "output_type": "execute_result"
    }
   ],
   "source": [
    "tweets = tw.Cursor(api.search,\n",
    "                       q=search_words,\n",
    "                       lang=\"en\",\n",
    "                       since=date_since).items(15)\n",
    "\n",
    "# Collect a list of tweets\n",
    "[tweet.text for tweet in tweets]"
   ]
  },
  {
   "cell_type": "code",
   "execution_count": null,
   "metadata": {},
   "outputs": [],
   "source": []
  },
  {
   "cell_type": "code",
   "execution_count": null,
   "metadata": {},
   "outputs": [],
   "source": []
  },
  {
   "cell_type": "code",
   "execution_count": null,
   "metadata": {},
   "outputs": [],
   "source": []
  },
  {
   "cell_type": "code",
   "execution_count": null,
   "metadata": {},
   "outputs": [],
   "source": []
  },
  {
   "cell_type": "code",
   "execution_count": null,
   "metadata": {},
   "outputs": [],
   "source": []
  },
  {
   "cell_type": "code",
   "execution_count": null,
   "metadata": {},
   "outputs": [],
   "source": []
  },
  {
   "cell_type": "code",
   "execution_count": null,
   "metadata": {},
   "outputs": [],
   "source": []
  },
  {
   "cell_type": "code",
   "execution_count": null,
   "metadata": {},
   "outputs": [],
   "source": []
  }
 ],
 "metadata": {
  "kernelspec": {
   "display_name": "Python 3",
   "language": "python",
   "name": "python3"
  },
  "language_info": {
   "codemirror_mode": {
    "name": "ipython",
    "version": 3
   },
   "file_extension": ".py",
   "mimetype": "text/x-python",
   "name": "python",
   "nbconvert_exporter": "python",
   "pygments_lexer": "ipython3",
   "version": "3.7.6"
  }
 },
 "nbformat": 4,
 "nbformat_minor": 4
}
