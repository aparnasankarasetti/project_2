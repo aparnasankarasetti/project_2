{
 "cells": [
  {
   "cell_type": "code",
   "execution_count": 1,
   "metadata": {},
   "outputs": [
    {
     "data": {
      "text/html": [
       "\n",
       "            <div>\n",
       "                <p><b>SparkSession - in-memory</b></p>\n",
       "                \n",
       "        <div>\n",
       "            <p><b>SparkContext</b></p>\n",
       "\n",
       "            <p><a href=\"http://LAPTOP-Q6OU4CDC:4041\">Spark UI</a></p>\n",
       "\n",
       "            <dl>\n",
       "              <dt>Version</dt>\n",
       "                <dd><code>v3.1.2</code></dd>\n",
       "              <dt>Master</dt>\n",
       "                <dd><code>local[*]</code></dd>\n",
       "              <dt>AppName</dt>\n",
       "                <dd><code>pyspark-shell</code></dd>\n",
       "            </dl>\n",
       "        </div>\n",
       "        \n",
       "            </div>\n",
       "        "
      ],
      "text/plain": [
       "<pyspark.sql.session.SparkSession at 0x2789f8660c8>"
      ]
     },
     "execution_count": 1,
     "metadata": {},
     "output_type": "execute_result"
    }
   ],
   "source": [
    "import pyspark\n",
    "from pyspark import SparkContext\n",
    "sc = SparkContext.getOrCreate();\n",
    "import findspark\n",
    "findspark.init()\n",
    "from pyspark.sql import SparkSession\n",
    "spark = SparkSession.builder.master(\"local[*]\").getOrCreate()\n",
    "spark.conf.set(\"spark.sql.repl.eagerEval.enabled\", True) # Property used to format output tables better\n",
    "spark"
   ]
  },
  {
   "cell_type": "code",
   "execution_count": 2,
   "metadata": {},
   "outputs": [],
   "source": [
    "\n",
    "sc.stop()"
   ]
  },
  {
   "cell_type": "code",
   "execution_count": 3,
   "metadata": {},
   "outputs": [],
   "source": [
    "import pyspark\n",
    "from pyspark.sql import SparkSession\n",
    "spark = SparkSession.builder.master(\"local[*]\").getOrCreate()\n",
    "spark.conf.set(\"spark.sql.repl.eagerEval.enabled\", True) # Property used to format output tables better\n",
    "spark\n",
    "\n",
    "from pyspark.sql import SparkSession\n",
    "\n",
    "spark = SparkSession.builder.appName('Twitter Data Analysis').getOrCreate()"
   ]
  },
  {
   "cell_type": "code",
   "execution_count": 4,
   "metadata": {},
   "outputs": [],
   "source": [
    "import os\n",
    "import re\n",
    "from datetime import date, datetime\n",
    "import pandas as pd"
   ]
  },
  {
   "cell_type": "code",
   "execution_count": 5,
   "metadata": {},
   "outputs": [],
   "source": [
    "file_path_name = 'JoeBidenTweets.csv'"
   ]
  },
  {
   "cell_type": "code",
   "execution_count": 6,
   "metadata": {},
   "outputs": [],
   "source": [
    "def open_file(file_path_name):\n",
    "    return pd.read_csv(file_path_name, index_col=[0])"
   ]
  },
  {
   "cell_type": "code",
   "execution_count": 7,
   "metadata": {},
   "outputs": [
    {
     "name": "stdout",
     "output_type": "stream",
     "text": [
      "                     timestamp  \\\n",
      "id                               \n",
      "3.613886e+08  24-10-2007 22:45   \n",
      "5.439844e+08  29-12-2007 15:35   \n",
      "1.892870e+17  09-04-2012 09:42   \n",
      "1.892870e+17  09-04-2012 09:43   \n",
      "1.893400e+17  09-04-2012 13:11   \n",
      "\n",
      "                                                            url  \\\n",
      "id                                                                \n",
      "3.613886e+08      https://twitter.com/JoeBiden/status/361388562   \n",
      "5.439844e+08      https://twitter.com/JoeBiden/status/543984392   \n",
      "1.892870e+17  https://twitter.com/JoeBiden/status/1892872273...   \n",
      "1.892870e+17  https://twitter.com/JoeBiden/status/1892873500...   \n",
      "1.893400e+17  https://twitter.com/JoeBiden/status/1893396506...   \n",
      "\n",
      "                                                          tweet  replies  \\\n",
      "id                                                                         \n",
      "3.613886e+08  Tune in 11:30 ET tomorrow for a live webcast o...       19   \n",
      "5.439844e+08  Iowans, there's a good chance there's a Biden ...       13   \n",
      "1.892870e+17  We're excited to announce that @JoeBiden is be...       21   \n",
      "1.892870e+17  Campaign staff will run this account to keep y...      144   \n",
      "1.893400e+17  News for you this morning: VP Biden will speak...       10   \n",
      "\n",
      "              retweets  quotes  likes  \n",
      "id                                     \n",
      "3.613886e+08         5      17     11  \n",
      "5.439844e+08        16       6     22  \n",
      "1.892870e+17        82       1     20  \n",
      "1.892870e+17        76      37     51  \n",
      "1.893400e+17        54       0      5  \n"
     ]
    }
   ],
   "source": [
    "\n",
    "print(open_file(file_path_name).head())"
   ]
  },
  {
   "cell_type": "code",
   "execution_count": 8,
   "metadata": {},
   "outputs": [],
   "source": [
    "new_df = open_file(file_path_name)"
   ]
  },
  {
   "cell_type": "code",
   "execution_count": 9,
   "metadata": {},
   "outputs": [
    {
     "name": "stdout",
     "output_type": "stream",
     "text": [
      "Total number of words:  181871 words\n"
     ]
    }
   ],
   "source": [
    "count = new_df['tweet'].str.split().str.len()\n",
    "count.index = count.index.astype(str) + ' words:'\n",
    "count.sort_index(inplace=True)\n",
    "words_count = []\n",
    "for i, content in new_df['tweet'].items():\n",
    "    new_values =[]\n",
    "    new_values = content.split()\n",
    "    words_count.append(len(new_values))\n",
    "print(\"Total number of words: \", sum(words_count), \"words\")"
   ]
  },
  {
   "cell_type": "code",
   "execution_count": 10,
   "metadata": {},
   "outputs": [
    {
     "name": "stdout",
     "output_type": "stream",
     "text": [
      "Total number of words:  211850530 words\n"
     ]
    }
   ],
   "source": [
    "count = new_df['likes']\n",
    "likes_count = []\n",
    "for i, content in new_df['likes'].items():\n",
    "    new_values =[]\n",
    "    new_values = content\n",
    "    likes_count.append(new_values)\n",
    "print(\"Total number of words: \", sum(likes_count), \"words\")"
   ]
  },
  {
   "cell_type": "code",
   "execution_count": 11,
   "metadata": {},
   "outputs": [
    {
     "name": "stdout",
     "output_type": "stream",
     "text": [
      "Total number of words:  3794865 words\n"
     ]
    }
   ],
   "source": [
    "count = new_df['quotes']\n",
    "quotes_count = []\n",
    "for i, content in new_df['quotes'].items():\n",
    "    new_values =[]\n",
    "    new_values = content\n",
    "    quotes_count.append(new_values)\n",
    "print(\"Total number of words: \", sum(quotes_count), \"words\")"
   ]
  },
  {
   "cell_type": "code",
   "execution_count": 12,
   "metadata": {},
   "outputs": [
    {
     "name": "stdout",
     "output_type": "stream",
     "text": [
      "Average number of words per tweet:  625.8 words\n",
      "Max number of words per tweet:  57034 words\n",
      "Min number of words per tweet:  0 words\n"
     ]
    }
   ],
   "source": [
    "print(\"Average number of words per tweet: \", round(count.mean(),2), \"words\")\n",
    "print(\"Max number of words per tweet: \", count.max(), \"words\")\n",
    "print(\"Min number of words per tweet: \", count.min(), \"words\")"
   ]
  },
  {
   "cell_type": "code",
   "execution_count": 13,
   "metadata": {},
   "outputs": [
    {
     "name": "stdout",
     "output_type": "stream",
     "text": [
      "Total length of a dataset:  1121734 characters\n",
      "Average length of a tweet:  185.0 characters\n"
     ]
    }
   ],
   "source": [
    "new_df['tweet_length'] = new_df['tweet'].str.len()\n",
    "print(\"Total length of a dataset: \", new_df.tweet_length.sum(), \"characters\")\n",
    "print(\"Average length of a tweet: \", round(new_df.tweet_length.mean(),0), \"characters\")"
   ]
  },
  {
   "cell_type": "code",
   "execution_count": null,
   "metadata": {},
   "outputs": [],
   "source": []
  },
  {
   "cell_type": "code",
   "execution_count": null,
   "metadata": {},
   "outputs": [],
   "source": []
  },
  {
   "cell_type": "code",
   "execution_count": null,
   "metadata": {},
   "outputs": [],
   "source": []
  }
 ],
 "metadata": {
  "kernelspec": {
   "display_name": "Python 3",
   "language": "python",
   "name": "python3"
  },
  "language_info": {
   "codemirror_mode": {
    "name": "ipython",
    "version": 3
   },
   "file_extension": ".py",
   "mimetype": "text/x-python",
   "name": "python",
   "nbconvert_exporter": "python",
   "pygments_lexer": "ipython3",
   "version": "3.7.6"
  }
 },
 "nbformat": 4,
 "nbformat_minor": 4
}
